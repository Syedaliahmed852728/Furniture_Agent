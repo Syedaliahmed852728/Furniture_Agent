{
 "cells": [
  {
   "cell_type": "code",
   "execution_count": null,
   "id": "d75af1f4",
   "metadata": {},
   "outputs": [],
   "source": [
    "import pandas as pd\n",
    "\n",
    "pd.set_option('display.max_rows', None)       # Show all rows\n",
    "pd.set_option('display.max_columns', None)    # Show all columns\n",
    "pd.set_option('display.width', None)          # Auto width to avoid wrapping\n",
    "pd.set_option('display.max_colwidth', None)\n",
    "\n",
    "df = pd.read_csv(\"TurnerAI.csv\")\n",
    "\n",
    "print(df.head(3))"
   ]
  },
  {
   "cell_type": "code",
   "execution_count": 21,
   "id": "5bd89196",
   "metadata": {},
   "outputs": [
    {
     "name": "stdout",
     "output_type": "stream",
     "text": [
      "[(26551328.38000006,)]\n"
     ]
    }
   ],
   "source": [
    "from db_connection import with_sqlite_cursor\n",
    "\n",
    "with with_sqlite_cursor() as (con, cur):\n",
    "    cur.execute(\"\"\"SELECT SUM(\"Total Sales\") FROM TurnerTable WHERE strftime('%Y', \"From_Date\") = '2025';\"\"\")\n",
    "    result = cur.fetchall()\n",
    "    pd.DataFrame(result)\n",
    "    print(result)"
   ]
  },
  {
   "cell_type": "markdown",
   "id": "a6a71cd1",
   "metadata": {},
   "source": []
  },
  {
   "cell_type": "code",
   "execution_count": 2,
   "id": "8ae828e9",
   "metadata": {},
   "outputs": [
    {
     "name": "stdout",
     "output_type": "stream",
     "text": [
      "[('2025-05-27',), ('2025-05-28',), ('2025-05-29',)]\n"
     ]
    }
   ],
   "source": [
    "from db_connection import with_sqlite_cursor\n",
    "with with_sqlite_cursor() as (con, cur):\n",
    "    cur.execute(\"\"\"SELECT From_Date from TurnerTable LIMIT 3;\"\"\")\n",
    "    result = cur.fetchall()\n",
    "    print(result)"
   ]
  },
  {
   "cell_type": "code",
   "execution_count": null,
   "id": "5d985b4b",
   "metadata": {},
   "outputs": [
    {
     "ename": "NameError",
     "evalue": "name 'pd' is not defined",
     "output_type": "error",
     "traceback": [
      "\u001b[31m---------------------------------------------------------------------------\u001b[39m",
      "\u001b[31mNameError\u001b[39m                                 Traceback (most recent call last)",
      "\u001b[36mCell\u001b[39m\u001b[36m \u001b[39m\u001b[32mIn[5]\u001b[39m\u001b[32m, line 9\u001b[39m\n\u001b[32m      2\u001b[39m cur.execute(\u001b[33m\"\"\"\u001b[39m\u001b[33mSELECT \u001b[39m\n\u001b[32m      3\u001b[39m \u001b[33mMIN(From_Date) AS min_value,\u001b[39m\n\u001b[32m      4\u001b[39m \u001b[33mMAX(From_Date) AS max_value\u001b[39m\n\u001b[32m      5\u001b[39m \u001b[33mFROM TurnerTable;\u001b[39m\u001b[33m\"\"\"\u001b[39m)\n\u001b[32m      7\u001b[39m result = cur.fetchall()\n\u001b[32m----> \u001b[39m\u001b[32m9\u001b[39m df = \u001b[43mpd\u001b[49m.DataFrame(result)\n\u001b[32m     10\u001b[39m \u001b[38;5;28mprint\u001b[39m(df)\n",
      "\u001b[31mNameError\u001b[39m: name 'pd' is not defined"
     ]
    }
   ],
   "source": [
    "import pandas as pd\n",
    "\n",
    "with with_sqlite_cursor() as (con, cur):\n",
    "    cur.execute(\"\"\"SELECT \n",
    "    MIN(From_Date) AS min_value,\n",
    "    MAX(From_Date) AS max_value\n",
    "    FROM TurnerTable;\"\"\")\n",
    "\n",
    "    result = cur.fetchall()\n",
    "    \n",
    "    df = pd.DataFrame(result)\n",
    "    print(df)"
   ]
  },
  {
   "cell_type": "code",
   "execution_count": null,
   "id": "69fd47fa",
   "metadata": {},
   "outputs": [
    {
     "ename": "OperationalError",
     "evalue": "('08001', '[08001] [Microsoft][ODBC Driver 17 for SQL Server]Named Pipes Provider: Could not open a connection to SQL Server [53].  (53) (SQLDriverConnect); [08001] [Microsoft][ODBC Driver 17 for SQL Server]Login timeout expired (0); [08001] [Microsoft][ODBC Driver 17 for SQL Server]A network-related or instance-specific error has occurred while establishing a connection to SQL Server. Server is not found or not accessible. Check if instance name is correct and if SQL Server is configured to allow remote connections. For more information see SQL Server Books Online. (53)')",
     "output_type": "error",
     "traceback": [
      "\u001b[31m---------------------------------------------------------------------------\u001b[39m",
      "\u001b[31mOperationalError\u001b[39m                          Traceback (most recent call last)",
      "\u001b[36mCell\u001b[39m\u001b[36m \u001b[39m\u001b[32mIn[4]\u001b[39m\u001b[32m, line 19\u001b[39m\n\u001b[32m     10\u001b[39m conn_str = (\n\u001b[32m     11\u001b[39m     \u001b[33mf\u001b[39m\u001b[33m\"\u001b[39m\u001b[33mDRIVER=\u001b[39m\u001b[38;5;130;01m{{\u001b[39;00m\u001b[33mODBC Driver 17 for SQL Server\u001b[39m\u001b[38;5;130;01m}}\u001b[39;00m\u001b[33m;\u001b[39m\u001b[33m\"\u001b[39m\n\u001b[32m     12\u001b[39m     \u001b[33mf\u001b[39m\u001b[33m\"\u001b[39m\u001b[33mSERVER=\u001b[39m\u001b[38;5;132;01m{\u001b[39;00mserver\u001b[38;5;132;01m}\u001b[39;00m\u001b[33m;\u001b[39m\u001b[33m\"\u001b[39m\n\u001b[32m   (...)\u001b[39m\u001b[32m     15\u001b[39m     \u001b[33mf\u001b[39m\u001b[33m\"\u001b[39m\u001b[33mPWD=\u001b[39m\u001b[38;5;132;01m{\u001b[39;00mpassword\u001b[38;5;132;01m}\u001b[39;00m\u001b[33m;\u001b[39m\u001b[33m\"\u001b[39m\n\u001b[32m     16\u001b[39m )\n\u001b[32m     18\u001b[39m \u001b[38;5;66;03m# Connect\u001b[39;00m\n\u001b[32m---> \u001b[39m\u001b[32m19\u001b[39m conn = \u001b[43mpyodbc\u001b[49m\u001b[43m.\u001b[49m\u001b[43mconnect\u001b[49m\u001b[43m(\u001b[49m\u001b[43mconn_str\u001b[49m\u001b[43m)\u001b[49m\n\u001b[32m     20\u001b[39m cursor = conn.cursor()\n\u001b[32m     22\u001b[39m \u001b[38;5;66;03m# Test query\u001b[39;00m\n",
      "\u001b[31mOperationalError\u001b[39m: ('08001', '[08001] [Microsoft][ODBC Driver 17 for SQL Server]Named Pipes Provider: Could not open a connection to SQL Server [53].  (53) (SQLDriverConnect); [08001] [Microsoft][ODBC Driver 17 for SQL Server]Login timeout expired (0); [08001] [Microsoft][ODBC Driver 17 for SQL Server]A network-related or instance-specific error has occurred while establishing a connection to SQL Server. Server is not found or not accessible. Check if instance name is correct and if SQL Server is configured to allow remote connections. For more information see SQL Server Books Online. (53)')"
     ]
    }
   ],
   "source": [
    "import pyodbc\n",
    "\n",
    "# Connection details\n",
    "server = \"192.168.3.112\"\n",
    "database = \"iProfitAfhsTX\"\n",
    "username = \"OpenAIUSR\"\n",
    "password = \"Pa$$w0rd@123\"\n",
    "\n",
    "# Build connection string\n",
    "conn_str = (\n",
    "    f\"DRIVER={{ODBC Driver 17 for SQL Server}};\"\n",
    "    f\"SERVER=192.168.3.112,1433;\"  # add port or instance if needed\n",
    "    f\"DATABASE=iProfitAfhsTX;\"\n",
    "    f\"UID=OpenAIUSR;\"\n",
    "    f\"PWD=Pa$$w0rd@123;\"\n",
    ")\n",
    "\n",
    "# Connect\n",
    "conn = pyodbc.connect(conn_str)\n",
    "cursor = conn.cursor()\n",
    "\n",
    "# Test query\n",
    "cursor.execute(\"SELECT TOP 5 name FROM sys.tables\")\n",
    "for row in cursor.fetchall():\n",
    "    print(row)\n",
    "\n",
    "cursor.close()\n",
    "conn.close()\n"
   ]
  }
 ],
 "metadata": {
  "kernelspec": {
   "display_name": ".venv",
   "language": "python",
   "name": "python3"
  },
  "language_info": {
   "codemirror_mode": {
    "name": "ipython",
    "version": 3
   },
   "file_extension": ".py",
   "mimetype": "text/x-python",
   "name": "python",
   "nbconvert_exporter": "python",
   "pygments_lexer": "ipython3",
   "version": "3.11.0"
  }
 },
 "nbformat": 4,
 "nbformat_minor": 5
}
